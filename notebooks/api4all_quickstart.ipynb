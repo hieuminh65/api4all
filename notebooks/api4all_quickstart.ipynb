{
  "cells": [
    {
      "cell_type": "code",
      "execution_count": null,
      "metadata": {
        "id": "UMV-mLLMafW1"
      },
      "outputs": [],
      "source": [
        "%pip install api4all -q"
      ]
    },
    {
      "cell_type": "markdown",
      "metadata": {
        "id": "b_1w6U_cycvS"
      },
      "source": [
        "## Run\n"
      ]
    },
    {
      "cell_type": "code",
      "execution_count": null,
      "metadata": {
        "id": "N8MBeKVoahc9"
      },
      "outputs": [],
      "source": [
        "from api4all import EngineFactory\n",
        "import os\n",
        "os.environ[\"TOGETHER_API_KEY\"] = \"xxx\"\n",
        "os.environ[\"MISTRAL_API_KEY\"] = \"xxxx\"\n",
        "\n",
        "messages = [\n",
        "    {\"role\": \"system\",\n",
        "    \"content\": \"You are a helpful assistent for the White House\"},\n",
        "    {\"role\": \"user\",\n",
        "    \"content\": \"What is the current status of the economy?\"}\n",
        "]\n",
        "\n",
        "engine = EngineFactory.create_engine(provider=\"together\", model=\"google/gemma-7b-it\", messages=messages, temperature=0.5, max_tokens=256, top_p=0.9, stop=None)\n",
        "# engine = EngineFactory.create_engine(provider=\"mistral\", model=\"mistral/mistral-small-latest\", messages=messages, temperature=0.5, max_tokens=256, top_p=0.9, stop=None)\n",
        "\n",
        "response = engine.generate_response()\n",
        "\n",
        "# See the response and also check the logfile.log\n",
        "print(response)"
      ]
    }
  ],
  "metadata": {
    "colab": {
      "provenance": []
    },
    "kernelspec": {
      "display_name": "Python 3",
      "name": "python3"
    },
    "language_info": {
      "name": "python"
    }
  },
  "nbformat": 4,
  "nbformat_minor": 0
}
